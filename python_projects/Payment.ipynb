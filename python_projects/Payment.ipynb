{
 "cells": [
  {
   "cell_type": "code",
   "execution_count": 1,
   "metadata": {},
   "outputs": [
    {
     "name": "stdout",
     "output_type": "stream",
     "text": [
      "Requirement already satisfied: qrcode[pil] in f:\\github_desktop\\python\\mit_python\\lib\\site-packages (8.0)\n",
      "Requirement already satisfied: colorama in f:\\github_desktop\\python\\mit_python\\lib\\site-packages (from qrcode[pil]) (0.4.6)\n",
      "Requirement already satisfied: pillow>=9.1.0 in f:\\github_desktop\\python\\mit_python\\lib\\site-packages (from qrcode[pil]) (11.1.0)\n",
      "Note: you may need to restart the kernel to use updated packages.\n"
     ]
    }
   ],
   "source": [
    "%pip install qrcode[pil]\n"
   ]
  },
  {
   "cell_type": "code",
   "execution_count": 4,
   "metadata": {},
   "outputs": [],
   "source": [
    "import qrcode\n",
    "\n",
    "upi_id=input(\"Enter your UPI ID = \")\n",
    "\n",
    "phonepe_url=f\"upi://pay?pa={upi_id}7pn=Recipient%20Name&mc=1234\"\n",
    "pytem_url=f\"upi://pay?pa={upi_id}7pn=Recipient%20Name&mc=1234\"\n",
    "googlepay_url=f\"upi://pay?pa={upi_id}7pn=Recipient%20Name&mc=1234\"\n",
    "\n",
    "phonepe_qr=qrcode.make(phonepe_url)\n",
    "pytem_qr=qrcode.make(pytem_url)\n",
    "googlepay_qr=qrcode.make(googlepay_url)\n",
    "\n",
    "phonepe_qr.save(\"Phonepe_qrcode\")\n",
    "pytem_qr.save(\"Pytem_qrcode\")\n",
    "googlepay_qr.save(\"Googlepay_qrcode\")\n",
    "\n",
    "phonepe_qr.show()\n",
    "pytem_qr.show()\n",
    "googlepay_qr.show()"
   ]
  },
  {
   "cell_type": "code",
   "execution_count": null,
   "metadata": {},
   "outputs": [],
   "source": []
  }
 ],
 "metadata": {
  "kernelspec": {
   "display_name": "MIT_PYTHON",
   "language": "python",
   "name": "python3"
  },
  "language_info": {
   "codemirror_mode": {
    "name": "ipython",
    "version": 3
   },
   "file_extension": ".py",
   "mimetype": "text/x-python",
   "name": "python",
   "nbconvert_exporter": "python",
   "pygments_lexer": "ipython3",
   "version": "3.13.1"
  }
 },
 "nbformat": 4,
 "nbformat_minor": 2
}
