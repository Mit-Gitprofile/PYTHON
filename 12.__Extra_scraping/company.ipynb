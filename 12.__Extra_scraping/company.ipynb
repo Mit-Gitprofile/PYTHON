{
 "cells": [
  {
   "cell_type": "code",
   "execution_count": 4,
   "metadata": {},
   "outputs": [
    {
     "name": "stdout",
     "output_type": "stream",
     "text": [
      "406\n",
      "406\n",
      "406\n",
      "406\n",
      "406\n",
      "406\n",
      "406\n",
      "406\n",
      "406\n",
      "406\n"
     ]
    }
   ],
   "source": [
    "import pandas as pd\n",
    "import requests\n",
    "from bs4 import BeautifulSoup\n",
    "\n",
    "product_name=[]\n",
    "prices=[]\n",
    "description=[]\n",
    "reviews=[]\n",
    "\n",
    "for i in range(0,10):\n",
    "\n",
    "    url=\"https://www.vcsdata.com/companies-surat.php?page=2&city=Surat\"\n",
    "\n",
    "    r=requests.get(url)\n",
    "\n",
    "    print(r.status_code)\n",
    "    soup=BeautifulSoup(r.text,\"html.parser\")\n",
    "    # box=soup.find(\"div\",class_=\"DOjaWF gdgoEp\")\n",
    "\n",
    "    names=soup.find_all(\"h3\")\n",
    "    for i in names:\n",
    "        name=i.text\n",
    "        product_name.append(name)\n",
    "\n",
    "    for i in product_name:\n",
    "        print(i)\n",
    "\n",
    "    # price=box.find_all(\"div\",class_=\"Nx9bqj _4b5DiR\")\n",
    "\n",
    "    # for i in price:\n",
    "    #     prc=i.text\n",
    "    #     prices.append(prc)\n",
    "\n",
    "    # for i in prices:\n",
    "    #     print(i)\n",
    "\n",
    "    # deccript=box.find_all(\"ul\",class_=\"G4BRas\")\n",
    "\n",
    "    # for i in deccript:\n",
    "    #     dec=i.text\n",
    "    #     description.append(dec)\n",
    "\n",
    "    # for i in description:\n",
    "    #     print(i)\n",
    "\n",
    "    # review=box.find_all(\"div\",class_=\"XQDdHH\")\n",
    "\n",
    "    # for i in review:\n",
    "    #     rev=i.text\n",
    "    #     reviews.append(rev)\n",
    "\n",
    "    # for i in reviews:\n",
    "    #     print(i)\n",
    "\n",
    "# dataframe=pd.DataFrame({\"Name\":product_name,\"Price\":prices,\"Description\":description,\"Review\":reviews})\n",
    "\n",
    "# dataframe.to_csv(\"data.csv\")"
   ]
  },
  {
   "cell_type": "code",
   "execution_count": null,
   "metadata": {},
   "outputs": [],
   "source": []
  }
 ],
 "metadata": {
  "kernelspec": {
   "display_name": "MIT_PYTHON",
   "language": "python",
   "name": "python3"
  },
  "language_info": {
   "codemirror_mode": {
    "name": "ipython",
    "version": 3
   },
   "file_extension": ".py",
   "mimetype": "text/x-python",
   "name": "python",
   "nbconvert_exporter": "python",
   "pygments_lexer": "ipython3",
   "version": "3.13.1"
  }
 },
 "nbformat": 4,
 "nbformat_minor": 2
}
